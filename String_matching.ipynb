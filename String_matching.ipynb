{
 "cells": [
  {
   "cell_type": "code",
   "execution_count": 1,
   "metadata": {},
   "outputs": [],
   "source": [
    "#  Importing libraries and module and some setting for notebookimport pandas as pd \n",
    "import re\n",
    "from sklearn.feature_extraction.text import TfidfVectorizer\n",
    "import numpy as np\n",
    "from scipy.sparse import csr_matrix\n",
    "import sparse_dot_topn.sparse_dot_topn as ct  # Leading Juice for us\n",
    "import time\n",
    "from fuzzywuzzy import fuzz\n",
    "import fuzzywuzzy\n",
    "import pandas as pd\n",
    "import tqdm\n",
    "import os"
   ]
  },
  {
   "cell_type": "code",
   "execution_count": 2,
   "metadata": {},
   "outputs": [],
   "source": [
    "def ngrams(string, n=3):\n",
    "    string = re.sub(r'[,-./]|\\sBD',r'', string)\n",
    "    string = fuzz.utils.full_process(string)\n",
    "    ngrams = zip(*[string[i:] for i in range(n)])\n",
    "    return [''.join(ngram) for ngram in ngrams]\n",
    "\n",
    "def awesome_cossim_top(A, B, ntop, lower_bound=0):\n",
    "    # force A and B as a CSR matrix.\n",
    "    # If they have already been CSR, there is no overhead\n",
    "    A = A.tocsr()\n",
    "    B = B.tocsr()\n",
    "    M, _ = A.shape\n",
    "    _, N = B.shape\n",
    " \n",
    "    idx_dtype = np.int32\n",
    " \n",
    "    nnz_max = M*ntop\n",
    " \n",
    "    indptr = np.zeros(M+1, dtype=idx_dtype)\n",
    "    indices = np.zeros(nnz_max, dtype=idx_dtype)\n",
    "    data = np.zeros(nnz_max, dtype=A.dtype)\n",
    "    ct.sparse_dot_topn(\n",
    "        M, N, np.asarray(A.indptr, dtype=idx_dtype),\n",
    "        np.asarray(A.indices, dtype=idx_dtype),\n",
    "        A.data,\n",
    "        np.asarray(B.indptr, dtype=idx_dtype),\n",
    "        np.asarray(B.indices, dtype=idx_dtype),\n",
    "        B.data,\n",
    "        ntop,\n",
    "        lower_bound,\n",
    "        indptr, indices, data)\n",
    "    return csr_matrix((data,indices,indptr),shape=(M,N))\n",
    "\n",
    "\n",
    "# unpacks the resulting sparse matrix\n",
    "def get_matches_df(sparse_matrix, name_vector, top=100):\n",
    "    non_zeros = sparse_matrix.nonzero()\n",
    "    \n",
    "    sparserows = non_zeros[0]\n",
    "    sparsecols = non_zeros[1]\n",
    "    \n",
    "    if top:\n",
    "        nr_matches = top\n",
    "    else:\n",
    "        nr_matches = sparsecols.size\n",
    "    \n",
    "    left_side = np.empty([nr_matches], dtype=object)\n",
    "    right_side = np.empty([nr_matches], dtype=object)\n",
    "    similairity = np.zeros(nr_matches)\n",
    "    \n",
    "    for index in range(0, nr_matches):\n",
    "        left_side[index] = name_vector[sparserows[index]]\n",
    "        right_side[index] = name_vector[sparsecols[index]]\n",
    "        similairity[index] = sparse_matrix.data[index]\n",
    "    \n",
    "    return pd.DataFrame({'left_side': left_side,\n",
    "                          'right_side': right_side,\n",
    "                           'similairity': similairity})"
   ]
  },
  {
   "cell_type": "markdown",
   "metadata": {},
   "source": [
    "## PreQin"
   ]
  },
  {
   "cell_type": "code",
   "execution_count": 3,
   "metadata": {},
   "outputs": [],
   "source": [
    "# Henter downloaded preqin data\n",
    "preqin = pd.read_excel(r'C:\\Users\\jacob\\Documents\\Polit\\Seminar\\Data\\PreQin_Masterark.xlsx', sheet_name='Preqin_Export', header = 0)\n",
    "#preqin = preqin[ preqin['DEAL DATE'] > '2016-01-01']\n",
    "\n",
    "preqin['Company'] = [fuzz.utils.full_process(com) for com in preqin['PORTFOLIO COMPANY']]\n",
    "preqin['Company'] = [re.sub(r'[,-./]|\\sBD',r'', com) for com in preqin['Company']]\n",
    "\n",
    "preqin_c_unique = list(preqin['Company'].unique())\n",
    "preqin_countries = preqin['PORTFOLIO COMPANY COUNTRY'].unique()"
   ]
  },
  {
   "cell_type": "code",
   "execution_count": 5,
   "metadata": {},
   "outputs": [
    {
     "name": "stderr",
     "output_type": "stream",
     "text": [
      "0it [00:00, ?it/s]c:\\Users\\jacob\\anaconda3\\lib\\site-packages\\pandas\\core\\indexing.py:1732: SettingWithCopyWarning: \n",
      "A value is trying to be set on a copy of a slice from a DataFrame\n",
      "\n",
      "See the caveats in the documentation: https://pandas.pydata.org/pandas-docs/stable/user_guide/indexing.html#returning-a-view-versus-a-copy\n",
      "  self._setitem_single_block(indexer, value, name)\n",
      "1it [01:53, 113.67s/it]"
     ]
    },
    {
     "name": "stdout",
     "output_type": "stream",
     "text": [
      "Analysis of biological materials 2612 1438\n"
     ]
    },
    {
     "name": "stderr",
     "output_type": "stream",
     "text": [
      "2it [07:04, 229.69s/it]"
     ]
    },
    {
     "name": "stdout",
     "output_type": "stream",
     "text": [
      "Audio-visual technology 3757 2009\n"
     ]
    },
    {
     "name": "stderr",
     "output_type": "stream",
     "text": [
      "3it [08:39, 168.15s/it]"
     ]
    },
    {
     "name": "stdout",
     "output_type": "stream",
     "text": [
      "Basic communication processes 1155 639\n"
     ]
    },
    {
     "name": "stderr",
     "output_type": "stream",
     "text": [
      "4it [13:28, 215.88s/it]"
     ]
    },
    {
     "name": "stdout",
     "output_type": "stream",
     "text": [
      "Basic materials chemistry 2833 1512\n"
     ]
    },
    {
     "name": "stderr",
     "output_type": "stream",
     "text": [
      "5it [17:28, 224.62s/it]"
     ]
    },
    {
     "name": "stdout",
     "output_type": "stream",
     "text": [
      "Biotechnology 5047 2657\n"
     ]
    },
    {
     "name": "stderr",
     "output_type": "stream",
     "text": [
      "6it [24:50, 298.64s/it]"
     ]
    },
    {
     "name": "stdout",
     "output_type": "stream",
     "text": [
      "Chemical engineering 3107 1675\n"
     ]
    },
    {
     "name": "stderr",
     "output_type": "stream",
     "text": [
      "7it [34:14, 385.25s/it]"
     ]
    },
    {
     "name": "stdout",
     "output_type": "stream",
     "text": [
      "Civil engineering 1516 838\n"
     ]
    },
    {
     "name": "stderr",
     "output_type": "stream",
     "text": [
      "8it [45:43, 482.00s/it]"
     ]
    },
    {
     "name": "stdout",
     "output_type": "stream",
     "text": [
      "Computer technology 14221 7407\n"
     ]
    },
    {
     "name": "stderr",
     "output_type": "stream",
     "text": [
      "9it [51:15, 435.16s/it]"
     ]
    },
    {
     "name": "stdout",
     "output_type": "stream",
     "text": [
      "Control 4188 2247\n"
     ]
    },
    {
     "name": "stderr",
     "output_type": "stream",
     "text": [
      "10it [54:09, 354.27s/it]"
     ]
    },
    {
     "name": "stdout",
     "output_type": "stream",
     "text": [
      "Digital communication 6763 3606\n"
     ]
    },
    {
     "name": "stderr",
     "output_type": "stream",
     "text": [
      "11it [1:00:04, 354.69s/it]"
     ]
    },
    {
     "name": "stdout",
     "output_type": "stream",
     "text": [
      "Electrical machinery, apparatus, energy 3940 2072\n"
     ]
    },
    {
     "name": "stderr",
     "output_type": "stream",
     "text": [
      "12it [1:03:24, 307.59s/it]"
     ]
    },
    {
     "name": "stdout",
     "output_type": "stream",
     "text": [
      "Engines, pumps, turbines-2 1345 722\n"
     ]
    },
    {
     "name": "stderr",
     "output_type": "stream",
     "text": [
      "13it [1:06:41, 274.12s/it]"
     ]
    },
    {
     "name": "stdout",
     "output_type": "stream",
     "text": [
      "Environmental technology 1228 679\n"
     ]
    },
    {
     "name": "stderr",
     "output_type": "stream",
     "text": [
      "14it [1:08:45, 228.62s/it]"
     ]
    },
    {
     "name": "stdout",
     "output_type": "stream",
     "text": [
      "Food chemistry 1172 625\n"
     ]
    },
    {
     "name": "stderr",
     "output_type": "stream",
     "text": [
      "15it [1:14:15, 259.27s/it]"
     ]
    },
    {
     "name": "stdout",
     "output_type": "stream",
     "text": [
      "Furniture, games 2276 1218\n"
     ]
    },
    {
     "name": "stderr",
     "output_type": "stream",
     "text": [
      "16it [1:21:21, 309.61s/it]"
     ]
    },
    {
     "name": "stdout",
     "output_type": "stream",
     "text": [
      "Handling 2134 1166\n"
     ]
    },
    {
     "name": "stderr",
     "output_type": "stream",
     "text": [
      "17it [1:24:22, 270.73s/it]"
     ]
    },
    {
     "name": "stdout",
     "output_type": "stream",
     "text": [
      "IT methods for management 7003 3733\n"
     ]
    },
    {
     "name": "stderr",
     "output_type": "stream",
     "text": [
      "18it [1:29:42, 285.65s/it]"
     ]
    },
    {
     "name": "stdout",
     "output_type": "stream",
     "text": [
      "Machine Tools 1334 741\n"
     ]
    },
    {
     "name": "stderr",
     "output_type": "stream",
     "text": [
      "19it [1:31:44, 236.45s/it]"
     ]
    },
    {
     "name": "stdout",
     "output_type": "stream",
     "text": [
      "Macromolecular chemistry, polymers 1184 636\n"
     ]
    },
    {
     "name": "stderr",
     "output_type": "stream",
     "text": [
      "20it [1:35:10, 227.38s/it]"
     ]
    },
    {
     "name": "stdout",
     "output_type": "stream",
     "text": [
      "Materials, metallurgy 1331 731\n"
     ]
    },
    {
     "name": "stderr",
     "output_type": "stream",
     "text": [
      "21it [1:41:45, 277.59s/it]"
     ]
    },
    {
     "name": "stdout",
     "output_type": "stream",
     "text": [
      "Measurement 5790 3144\n"
     ]
    },
    {
     "name": "stderr",
     "output_type": "stream",
     "text": [
      "22it [1:47:31, 298.14s/it]"
     ]
    },
    {
     "name": "stdout",
     "output_type": "stream",
     "text": [
      "Mechanical elements 1520 827\n"
     ]
    },
    {
     "name": "stderr",
     "output_type": "stream",
     "text": [
      "23it [1:55:17, 348.42s/it]"
     ]
    },
    {
     "name": "stdout",
     "output_type": "stream",
     "text": [
      "Medical technology 7163 3639\n"
     ]
    },
    {
     "name": "stderr",
     "output_type": "stream",
     "text": [
      "24it [1:55:40, 250.86s/it]"
     ]
    },
    {
     "name": "stdout",
     "output_type": "stream",
     "text": [
      "Micro-structural and nano-technology-2 472 268\n"
     ]
    },
    {
     "name": "stderr",
     "output_type": "stream",
     "text": [
      "25it [1:57:47, 213.68s/it]"
     ]
    },
    {
     "name": "stdout",
     "output_type": "stream",
     "text": [
      "Optics 2099 1139\n"
     ]
    },
    {
     "name": "stderr",
     "output_type": "stream",
     "text": [
      "26it [2:00:23, 196.30s/it]"
     ]
    },
    {
     "name": "stdout",
     "output_type": "stream",
     "text": [
      "Organic fine chemistry 3841 2040\n"
     ]
    },
    {
     "name": "stderr",
     "output_type": "stream",
     "text": [
      "27it [2:05:09, 223.44s/it]"
     ]
    },
    {
     "name": "stdout",
     "output_type": "stream",
     "text": [
      "Other consumer goods 1788 952\n"
     ]
    },
    {
     "name": "stderr",
     "output_type": "stream",
     "text": [
      "28it [2:11:57, 278.79s/it]"
     ]
    },
    {
     "name": "stdout",
     "output_type": "stream",
     "text": [
      "Other special machines 2832 1536\n"
     ]
    },
    {
     "name": "stderr",
     "output_type": "stream",
     "text": [
      "29it [2:15:50, 265.07s/it]"
     ]
    },
    {
     "name": "stdout",
     "output_type": "stream",
     "text": [
      "Pharmaceuticals 6085 3121\n"
     ]
    },
    {
     "name": "stderr",
     "output_type": "stream",
     "text": [
      "30it [2:17:26, 214.27s/it]"
     ]
    },
    {
     "name": "stdout",
     "output_type": "stream",
     "text": [
      "Semiconductors 1676 911\n"
     ]
    },
    {
     "name": "stderr",
     "output_type": "stream",
     "text": [
      "31it [2:22:35, 242.77s/it]"
     ]
    },
    {
     "name": "stdout",
     "output_type": "stream",
     "text": [
      "Surface technology, coating 1843 990\n"
     ]
    },
    {
     "name": "stderr",
     "output_type": "stream",
     "text": [
      "32it [2:27:22, 256.05s/it]"
     ]
    },
    {
     "name": "stdout",
     "output_type": "stream",
     "text": [
      "Telecommunications 3527 1864\n"
     ]
    },
    {
     "name": "stderr",
     "output_type": "stream",
     "text": [
      "33it [2:31:38, 256.06s/it]"
     ]
    },
    {
     "name": "stdout",
     "output_type": "stream",
     "text": [
      "Textile and paper machines 936 512\n"
     ]
    },
    {
     "name": "stderr",
     "output_type": "stream",
     "text": [
      "34it [2:36:30, 266.68s/it]"
     ]
    },
    {
     "name": "stdout",
     "output_type": "stream",
     "text": [
      "Thermal processes and apparatus 1039 575\n"
     ]
    },
    {
     "name": "stderr",
     "output_type": "stream",
     "text": [
      "35it [2:44:58, 282.81s/it]"
     ]
    },
    {
     "name": "stdout",
     "output_type": "stream",
     "text": [
      "Transport 2273 1234\n"
     ]
    },
    {
     "name": "stderr",
     "output_type": "stream",
     "text": [
      "\n"
     ]
    }
   ],
   "source": [
    "# Loops matching over each patent category\n",
    "\n",
    "for file in tqdm.tqdm(os.scandir(r'C:\\Users\\jacob\\Documents\\Polit\\Seminar\\Data\\Orbis\\Wibo')):\n",
    "    c = file.name\n",
    "    category = c.replace('.xlsx', '')\n",
    "    orbis= pd.read_excel(file, sheet_name='Results', header = 0)\n",
    "    orbis['Company'] = [fuzz.utils.full_process(com) for com in orbis['Company name Latin alphabet']]\n",
    "    orbis['Company'] = [re.sub(r'[,-./]|\\sBD',r'', com) for com in orbis['Company']]\n",
    "\n",
    "    orbis_c_unique = list(orbis['Company'].unique())\n",
    "\n",
    "    ######################################################################################################################\n",
    "    # Cleaning the Orbis countries to match Preqin\n",
    "\n",
    "    orbis['Country_'] = orbis['Country'].fillna('')\n",
    "    for i in range(0,len(orbis)):\n",
    "        c = orbis['Country_'].iloc[i]\n",
    "\n",
    "        if 'United States of America' in c:\n",
    "            orbis['Country_'].iloc[i] = 'US'\n",
    "\n",
    "        if 'France' in c:\n",
    "            orbis['Country_'].iloc[i] = 'France'\n",
    "\n",
    "        if 'Denmark' in c:\n",
    "            orbis['Country_'].iloc[i] = 'Denmark'\n",
    "\n",
    "        if 'United Kingdom' in c:\n",
    "            orbis['Country_'].iloc[i] = 'UK'\n",
    "\n",
    "        if 'Russian Federation' in c:\n",
    "            orbis['Country_'].iloc[i] = 'Russia'\n",
    "\n",
    "        if 'Republic of Moldova' in c:\n",
    "            orbis['Country_'].iloc[i] = 'Moldova'\n",
    "\n",
    "    #######################################################################################################################\n",
    "    # Match names in Preqin and Orbis for each country\n",
    "\n",
    "    orbis_countries = list(orbis['Country_'].unique())\n",
    "\n",
    "    same = []\n",
    "    not_ = []\n",
    "    for i in preqin_countries:\n",
    "        if i in orbis_countries:\n",
    "            same.append(i)\n",
    "        else:\n",
    "            not_.append(i)\n",
    "\n",
    "    in_ = []\n",
    "\n",
    "    for c_ in same:\n",
    "        orbis_temp = orbis[ orbis['Country_'] == c_]\n",
    "        preqin_temp = preqin[ preqin['PORTFOLIO COMPANY COUNTRY'] == c_]\n",
    "\n",
    "        preqin_company = preqin_temp['Company'].unique()\n",
    "        orbis_company = orbis_temp.iloc[:, 1].unique()\n",
    "\n",
    "        del preqin_temp, orbis_temp\n",
    "\n",
    "        collected = list(preqin_company) + list(orbis_company)\n",
    "\n",
    "        del orbis_company\n",
    "\n",
    "        collected = [fuzz.utils.full_process(com) for com in collected]\n",
    "\n",
    "        vectorizer = TfidfVectorizer(min_df=1, analyzer=ngrams)\n",
    "        tf_idf_matrix_c = vectorizer.fit_transform(collected)\n",
    "\n",
    "        #  Top 4 with similarity above 0.8\n",
    "        matches = awesome_cossim_top(tf_idf_matrix_c, tf_idf_matrix_c.transpose(), 3, 0.8) \n",
    "\n",
    "        matches_df = get_matches_df(matches, collected, top = False)\n",
    "        matches_df = matches_df[matches_df['similairity'] < 0.99999] # For removing all exact matches\n",
    "\n",
    "        del matches, collected\n",
    "\n",
    "        for m in range(0, len(matches_df)):\n",
    "            #if (matches_df.iloc[m, 0] == matches_df.iloc[m, 1]) & (matches_df.iloc[m, 0] in preqin_company):\n",
    "            #    in_.append(matches_df.iloc[m, 0])\n",
    "            if (matches_df.iloc[m, 0] in preqin_company) & (matches_df.iloc[m, 1] not in preqin_company):\n",
    "                in_.append(matches_df.iloc[m, 0])\n",
    "            elif (matches_df.iloc[m, 0] not in preqin_company) & (matches_df.iloc[m, 1] in preqin_company):\n",
    "                in_.append(matches_df.iloc[m, 1])\n",
    "        \n",
    "        del matches_df\n",
    "\n",
    "    ######################################################################################################################\n",
    "    # 'Other' countries\n",
    "\n",
    "    orbis_temp2 = orbis[ ~orbis['Country_'].isin(same)] \n",
    "    preqin_temp2 = preqin[ ~preqin['PORTFOLIO COMPANY COUNTRY'].isin(same)]\n",
    "\n",
    "    preqin_company = preqin_temp2['Company'].unique()\n",
    "    orbis_company = orbis_temp2.iloc[:, 1].unique()\n",
    "\n",
    "    del preqin_temp2, orbis_temp2\n",
    "\n",
    "    collected = list(preqin_company) + list(orbis_company)\n",
    "\n",
    "    del orbis_company\n",
    "\n",
    "    collected = [fuzz.utils.full_process(com) for com in collected]\n",
    "\n",
    "    vectorizer = TfidfVectorizer(min_df=1, analyzer=ngrams)\n",
    "    tf_idf_matrix_c = vectorizer.fit_transform(collected)\n",
    "\n",
    "    #  Top 4 with similarity above 0.8\n",
    "    matches = awesome_cossim_top(tf_idf_matrix_c, tf_idf_matrix_c.transpose(), 3, 0.8) \n",
    "\n",
    "    matches_df = get_matches_df(matches, collected, top = False)\n",
    "    matches_df = matches_df[matches_df['similairity'] < 0.99999] # For removing all exact matches\n",
    "\n",
    "    del matches, collected\n",
    "\n",
    "    for m in range(0, len(matches_df)):\n",
    "        #if (matches_df.iloc[m, 0] == matches_df.iloc[m, 1]) & (matches_df.iloc[m, 0] in preqin_company):\n",
    "        #    in_.append(matches_df.iloc[m, 0])\n",
    "        if (matches_df.iloc[m, 0] in preqin_company) & (matches_df.iloc[m, 1] not in preqin_company):\n",
    "            in_.append(matches_df.iloc[m, 0])\n",
    "        elif (matches_df.iloc[m, 0] not in preqin_company) & (matches_df.iloc[m, 1] in preqin_company):\n",
    "            in_.append(matches_df.iloc[m, 1])\n",
    "\n",
    "    del matches_df\n",
    "\n",
    "    #######################################################################################################################\n",
    "    # Identical names in PreQin and Orbis\n",
    "    \n",
    "    [in_.append(com) for com in preqin_c_unique if com in orbis_c_unique]\n",
    "\n",
    "    #######################################################################################################################\n",
    "\n",
    "    in_unique = list(dict.fromkeys(in_))\n",
    "    print(category, len(in_), len(in_unique))\n",
    "\n",
    "    preqin[category] =  np.where(preqin['Company'].isin(in_unique), 1, 0)\n",
    "\n",
    "preqin_raw = preqin.copy()\n"
   ]
  },
  {
   "cell_type": "code",
   "execution_count": 2,
   "metadata": {},
   "outputs": [],
   "source": [
    "preqin_raw = pd.read_excel(r'C:\\Users\\jacob\\Documents\\Polit\\Seminar\\Data\\PreQin v2.3 c80.xlsx', header = 0)"
   ]
  },
  {
   "cell_type": "code",
   "execution_count": 3,
   "metadata": {},
   "outputs": [],
   "source": [
    "preqin = preqin_raw.copy()"
   ]
  },
  {
   "cell_type": "code",
   "execution_count": 4,
   "metadata": {},
   "outputs": [],
   "source": [
    "preqin['Electrical engineering']        =   preqin['Electrical machinery, apparatus, energy'] + \\\n",
    "                                            preqin['Audio-visual technology'] + \\\n",
    "                                            preqin['Telecommunications'] + \\\n",
    "                                            preqin['Digital communication'] + \\\n",
    "                                            preqin['Basic communication processes'] + \\\n",
    "                                            preqin['Computer technology'] + \\\n",
    "                                            preqin['IT methods for management'] + \\\n",
    "                                            preqin['Semiconductors']\n",
    "preqin['Electrical engineering']        =   np.ceil(preqin['Electrical engineering'] / (preqin['Electrical engineering'] + 1))\n",
    "\n",
    "\n",
    "preqin['Instruments']                   =   preqin['Optics'] + \\\n",
    "                                            preqin['Measurement'] + \\\n",
    "                                            preqin['Analysis of biological materials'] + \\\n",
    "                                            preqin['Control'] + \\\n",
    "                                            preqin['Medical technology']\n",
    "preqin['Instruments']                   =   np.ceil(preqin['Instruments'] / (preqin['Instruments'] + 1))\n",
    "\n",
    "\n",
    "preqin['Chemistry']                     =   preqin['Organic fine chemistry'] + \\\n",
    "                                            preqin['Biotechnology'] + \\\n",
    "                                            preqin['Pharmaceuticals'] + \\\n",
    "                                            preqin['Macromolecular chemistry, polymers'] + \\\n",
    "                                            preqin['Food chemistry'] + \\\n",
    "                                            preqin['Basic materials chemistry'] + \\\n",
    "                                            preqin['Materials, metallurgy'] + \\\n",
    "                                            preqin['Surface technology, coating'] + \\\n",
    "                                            preqin['Micro-structural and nano-technology-2'] + \\\n",
    "                                            preqin['Chemical engineering'] + \\\n",
    "                                            preqin['Environmental technology']\n",
    "preqin['Chemistry']                     =   np.ceil(preqin['Chemistry'] / (preqin['Chemistry'] + 1))\n",
    "\n",
    "\n",
    "preqin['Mechanical engineering']        =   preqin['Handling'] + \\\n",
    "                                            preqin['Machine Tools'] + \\\n",
    "                                            preqin['Engines, pumps, turbines-2'] + \\\n",
    "                                            preqin['Textile and paper machines'] + \\\n",
    "                                            preqin['Other special machines'] + \\\n",
    "                                            preqin['Thermal processes and apparatus'] + \\\n",
    "                                            preqin['Mechanical elements'] + \\\n",
    "                                            preqin['Transport']\n",
    "preqin['Mechanical engineering']        =   np.ceil(preqin['Mechanical engineering'] / (preqin['Mechanical engineering'] + 1))\n",
    "\n",
    "\n",
    "preqin['Other fields']                  =   preqin['Furniture, games'] + \\\n",
    "                                            preqin['Other consumer goods'] + \\\n",
    "                                            preqin['Civil engineering']\n",
    "preqin['Other fields']                  =   np.ceil(preqin['Other fields'] / (preqin['Other fields'] + 1))\n",
    "\n",
    "\n",
    "preqin['Deeptech']          =   preqin['Electrical engineering'] + \\\n",
    "                                preqin['Instruments'] + \\\n",
    "                                preqin['Chemistry'] + \\\n",
    "                                preqin['Mechanical engineering'] + \\\n",
    "                                preqin['Other fields'] \n",
    "preqin['Deeptech']          =   np.ceil(preqin['Deeptech'] / (preqin['Deeptech'] + 1))\n",
    "preqin.to_excel('PreQin v2.3.1 c80.xlsx')\n"
   ]
  },
  {
   "cell_type": "markdown",
   "metadata": {},
   "source": [
    "## Venturelisten"
   ]
  },
  {
   "cell_type": "code",
   "execution_count": 5,
   "metadata": {},
   "outputs": [],
   "source": [
    "vl = pd.read_excel(r'C:\\Users\\jacob\\Documents\\Polit\\Seminar\\Data\\Venturelisten v1.1.xlsx', header = 0)\n",
    "kurser = pd.read_excel(r'C:\\Users\\jacob\\Documents\\Polit\\Seminar\\Data\\Valutakurser.xlsx')\n",
    "\n",
    "vl['Deeptech v1.1'] = vl['Deeptech']\n",
    "\n",
    "vl['Company'] = [fuzz.utils.full_process(com) for com in vl['Name of company']]\n",
    "vl['Company'] = [re.sub(r'[,-./]|\\sBD',r'', com) for com in vl['Company']]\n",
    "vl_c_unique = list(vl['Company'].unique())"
   ]
  },
  {
   "cell_type": "code",
   "execution_count": 6,
   "metadata": {},
   "outputs": [
    {
     "name": "stderr",
     "output_type": "stream",
     "text": [
      "1it [00:04,  4.81s/it]"
     ]
    },
    {
     "name": "stdout",
     "output_type": "stream",
     "text": [
      "Analysis of biological materials 10 5\n"
     ]
    },
    {
     "name": "stderr",
     "output_type": "stream",
     "text": [
      "2it [00:15,  8.14s/it]"
     ]
    },
    {
     "name": "stdout",
     "output_type": "stream",
     "text": [
      "Audio-visual technology 8 3\n"
     ]
    },
    {
     "name": "stderr",
     "output_type": "stream",
     "text": [
      "3it [00:18,  5.93s/it]"
     ]
    },
    {
     "name": "stdout",
     "output_type": "stream",
     "text": [
      "Basic communication processes 2 1\n"
     ]
    },
    {
     "name": "stderr",
     "output_type": "stream",
     "text": [
      "4it [00:28,  7.57s/it]"
     ]
    },
    {
     "name": "stdout",
     "output_type": "stream",
     "text": [
      "Basic materials chemistry 6 3\n"
     ]
    },
    {
     "name": "stderr",
     "output_type": "stream",
     "text": [
      "5it [00:35,  7.46s/it]"
     ]
    },
    {
     "name": "stdout",
     "output_type": "stream",
     "text": [
      "Biotechnology 37 19\n"
     ]
    },
    {
     "name": "stderr",
     "output_type": "stream",
     "text": [
      "6it [00:51, 10.24s/it]"
     ]
    },
    {
     "name": "stdout",
     "output_type": "stream",
     "text": [
      "Chemical engineering 18 9\n"
     ]
    },
    {
     "name": "stderr",
     "output_type": "stream",
     "text": [
      "7it [01:13, 13.93s/it]"
     ]
    },
    {
     "name": "stdout",
     "output_type": "stream",
     "text": [
      "Civil engineering 6 3\n"
     ]
    },
    {
     "name": "stderr",
     "output_type": "stream",
     "text": [
      "8it [01:31, 15.23s/it]"
     ]
    },
    {
     "name": "stdout",
     "output_type": "stream",
     "text": [
      "Computer technology 26 11\n"
     ]
    },
    {
     "name": "stderr",
     "output_type": "stream",
     "text": [
      "9it [01:42, 14.08s/it]"
     ]
    },
    {
     "name": "stdout",
     "output_type": "stream",
     "text": [
      "Control 10 4\n"
     ]
    },
    {
     "name": "stderr",
     "output_type": "stream",
     "text": [
      "10it [01:49, 11.85s/it]"
     ]
    },
    {
     "name": "stdout",
     "output_type": "stream",
     "text": [
      "Digital communication 16 7\n"
     ]
    },
    {
     "name": "stderr",
     "output_type": "stream",
     "text": [
      "11it [02:05, 13.25s/it]"
     ]
    },
    {
     "name": "stdout",
     "output_type": "stream",
     "text": [
      "Electrical machinery, apparatus, energy 8 3\n"
     ]
    },
    {
     "name": "stderr",
     "output_type": "stream",
     "text": [
      "12it [02:14, 11.91s/it]"
     ]
    },
    {
     "name": "stdout",
     "output_type": "stream",
     "text": [
      "Engines, pumps, turbines-2 6 3\n"
     ]
    },
    {
     "name": "stderr",
     "output_type": "stream",
     "text": [
      "13it [02:23, 11.04s/it]"
     ]
    },
    {
     "name": "stdout",
     "output_type": "stream",
     "text": [
      "Environmental technology 8 4\n"
     ]
    },
    {
     "name": "stderr",
     "output_type": "stream",
     "text": [
      "14it [02:30,  9.59s/it]"
     ]
    },
    {
     "name": "stdout",
     "output_type": "stream",
     "text": [
      "Food chemistry 3 2\n"
     ]
    },
    {
     "name": "stderr",
     "output_type": "stream",
     "text": [
      "15it [02:46, 11.58s/it]"
     ]
    },
    {
     "name": "stdout",
     "output_type": "stream",
     "text": [
      "Furniture, games 8 4\n"
     ]
    },
    {
     "name": "stderr",
     "output_type": "stream",
     "text": [
      "16it [03:06, 14.24s/it]"
     ]
    },
    {
     "name": "stdout",
     "output_type": "stream",
     "text": [
      "Handling 14 6\n"
     ]
    },
    {
     "name": "stderr",
     "output_type": "stream",
     "text": [
      "17it [03:13, 11.92s/it]"
     ]
    },
    {
     "name": "stdout",
     "output_type": "stream",
     "text": [
      "IT methods for management 8 4\n"
     ]
    },
    {
     "name": "stderr",
     "output_type": "stream",
     "text": [
      "18it [03:37, 15.74s/it]"
     ]
    },
    {
     "name": "stdout",
     "output_type": "stream",
     "text": [
      "Machine Tools 4 2\n"
     ]
    },
    {
     "name": "stderr",
     "output_type": "stream",
     "text": [
      "19it [03:46, 13.74s/it]"
     ]
    },
    {
     "name": "stdout",
     "output_type": "stream",
     "text": [
      "Macromolecular chemistry, polymers 0 0\n"
     ]
    },
    {
     "name": "stderr",
     "output_type": "stream",
     "text": [
      "20it [04:00, 13.57s/it]"
     ]
    },
    {
     "name": "stdout",
     "output_type": "stream",
     "text": [
      "Materials, metallurgy 6 3\n"
     ]
    },
    {
     "name": "stderr",
     "output_type": "stream",
     "text": [
      "21it [04:29, 18.30s/it]"
     ]
    },
    {
     "name": "stdout",
     "output_type": "stream",
     "text": [
      "Measurement 24 10\n"
     ]
    },
    {
     "name": "stderr",
     "output_type": "stream",
     "text": [
      "22it [04:54, 20.40s/it]"
     ]
    },
    {
     "name": "stdout",
     "output_type": "stream",
     "text": [
      "Mechanical elements 2 1\n"
     ]
    },
    {
     "name": "stderr",
     "output_type": "stream",
     "text": [
      "23it [05:21, 22.32s/it]"
     ]
    },
    {
     "name": "stdout",
     "output_type": "stream",
     "text": [
      "Medical technology 35 17\n"
     ]
    },
    {
     "name": "stderr",
     "output_type": "stream",
     "text": [
      "24it [05:22, 15.98s/it]"
     ]
    },
    {
     "name": "stdout",
     "output_type": "stream",
     "text": [
      "Micro-structural and nano-technology-2 2 1\n"
     ]
    },
    {
     "name": "stderr",
     "output_type": "stream",
     "text": [
      "25it [05:32, 14.15s/it]"
     ]
    },
    {
     "name": "stdout",
     "output_type": "stream",
     "text": [
      "Optics 10 5\n"
     ]
    },
    {
     "name": "stderr",
     "output_type": "stream",
     "text": [
      "26it [05:43, 13.14s/it]"
     ]
    },
    {
     "name": "stdout",
     "output_type": "stream",
     "text": [
      "Organic fine chemistry 10 5\n"
     ]
    },
    {
     "name": "stderr",
     "output_type": "stream",
     "text": [
      "27it [06:04, 15.64s/it]"
     ]
    },
    {
     "name": "stdout",
     "output_type": "stream",
     "text": [
      "Other consumer goods 3 2\n"
     ]
    },
    {
     "name": "stderr",
     "output_type": "stream",
     "text": [
      "28it [06:35, 20.29s/it]"
     ]
    },
    {
     "name": "stdout",
     "output_type": "stream",
     "text": [
      "Other special machines 9 5\n"
     ]
    },
    {
     "name": "stderr",
     "output_type": "stream",
     "text": [
      "29it [06:50, 18.49s/it]"
     ]
    },
    {
     "name": "stdout",
     "output_type": "stream",
     "text": [
      "Pharmaceuticals 36 18\n"
     ]
    },
    {
     "name": "stderr",
     "output_type": "stream",
     "text": [
      "30it [06:56, 14.89s/it]"
     ]
    },
    {
     "name": "stdout",
     "output_type": "stream",
     "text": [
      "Semiconductors 2 1\n"
     ]
    },
    {
     "name": "stderr",
     "output_type": "stream",
     "text": [
      "31it [07:12, 15.15s/it]"
     ]
    },
    {
     "name": "stdout",
     "output_type": "stream",
     "text": [
      "Surface technology, coating 10 5\n"
     ]
    },
    {
     "name": "stderr",
     "output_type": "stream",
     "text": [
      "32it [07:25, 14.48s/it]"
     ]
    },
    {
     "name": "stdout",
     "output_type": "stream",
     "text": [
      "Telecommunications 8 4\n"
     ]
    },
    {
     "name": "stderr",
     "output_type": "stream",
     "text": [
      "33it [07:37, 13.86s/it]"
     ]
    },
    {
     "name": "stdout",
     "output_type": "stream",
     "text": [
      "Textile and paper machines 2 1\n"
     ]
    },
    {
     "name": "stderr",
     "output_type": "stream",
     "text": [
      "34it [07:52, 14.10s/it]"
     ]
    },
    {
     "name": "stdout",
     "output_type": "stream",
     "text": [
      "Thermal processes and apparatus 2 1\n"
     ]
    },
    {
     "name": "stderr",
     "output_type": "stream",
     "text": [
      "35it [08:18, 14.25s/it]"
     ]
    },
    {
     "name": "stdout",
     "output_type": "stream",
     "text": [
      "Transport 6 3\n"
     ]
    },
    {
     "name": "stderr",
     "output_type": "stream",
     "text": [
      "\n"
     ]
    }
   ],
   "source": [
    "for file in tqdm.tqdm(os.scandir(r'C:\\Users\\jacob\\Documents\\Polit\\Seminar\\Data\\Orbis\\Wibo')):\n",
    "    c = file.name\n",
    "    category = c.replace('.xlsx', '')\n",
    "    orbis= pd.read_excel(file, sheet_name='Results', header = 0)\n",
    "    \n",
    "    orbis['Country_'] = orbis['Country'].fillna('')\n",
    "    for i in range(0,len(orbis)):\n",
    "        c = orbis['Country_'].iloc[i]\n",
    "\n",
    "        if 'Denmark' in c:\n",
    "            orbis['Country_'].iloc[i] = 'Denmark'\n",
    "\n",
    "    orbis = orbis[ orbis['Country_'] == 'Denmark']\n",
    "\n",
    "    orbis['Company'] = [fuzz.utils.full_process(com) for com in orbis['Company name Latin alphabet']]\n",
    "    orbis['Company'] = [re.sub(r'[,-./]|\\sBD',r'', com) for com in orbis['Company']]\n",
    "\n",
    "    orbis_c_unique = list(orbis['Company'].unique())\n",
    "\n",
    "    #######################################################################################################################\n",
    "    # Match names in Preqin and Orbis\n",
    "\n",
    "    vl_company = vl_c_unique\n",
    "    orbis_company = orbis_c_unique\n",
    "\n",
    "    collected = list(vl_company) + list(orbis_company)\n",
    "\n",
    "    del orbis_company\n",
    "\n",
    "    #collected = [fuzz.utils.full_process(com) for com in collected]\n",
    "\n",
    "    vectorizer = TfidfVectorizer(min_df=1, analyzer=ngrams)\n",
    "    tf_idf_matrix_c = vectorizer.fit_transform(collected)\n",
    "\n",
    "    #  Top 4 with similarity above 0.8\n",
    "    matches = awesome_cossim_top(tf_idf_matrix_c, tf_idf_matrix_c.transpose(), 3, 0.80) \n",
    "\n",
    "    matches_df = get_matches_df(matches, collected, top = False)\n",
    "    matches_df = matches_df[matches_df['similairity'] < 0.99999] # For removing all exact matches\n",
    "\n",
    "    del matches, collected\n",
    "\n",
    "    in_vl = []\n",
    "\n",
    "    for m in range(0, len(matches_df)):\n",
    "        #if (matches_df.iloc[m, 0] == matches_df.iloc[m, 1]) & (matches_df.iloc[m, 0] in vl_company):\n",
    "        #    in_vl.append(matches_df.iloc[m, 0])\n",
    "        if (matches_df.iloc[m, 0] in vl_company) & (matches_df.iloc[m, 1] not in vl_company):\n",
    "            in_vl.append(matches_df.iloc[m, 0])\n",
    "        elif (matches_df.iloc[m, 0] not in vl_company) & (matches_df.iloc[m, 1] in vl_company):\n",
    "            in_vl.append(matches_df.iloc[m, 1])\n",
    "        \n",
    "    del matches_df\n",
    "\n",
    "    #######################################################################################################################\n",
    "    # Identical names in PreQin and Orbis\n",
    "    \n",
    "    [in_vl.append(com) for com in vl_c_unique if com in orbis_c_unique]\n",
    "\n",
    "    #######################################################################################################################\n",
    "\n",
    "    in_vl_unique = list(dict.fromkeys(in_vl))\n",
    "    print(category, len(in_vl), len(in_vl_unique))\n",
    "\n",
    "    vl[category] =  np.where(vl['Company'].isin(in_vl_unique), 1, 0)\n",
    "\n",
    "vl_raw = vl.copy()"
   ]
  },
  {
   "cell_type": "code",
   "execution_count": 13,
   "metadata": {},
   "outputs": [],
   "source": [
    "vl_raw = pd.read_excel(r'C:\\Users\\jacob\\Documents\\Polit\\Seminar\\Data\\Venturelisten v2.3 c80.xlsx', header = 0)"
   ]
  },
  {
   "cell_type": "code",
   "execution_count": 24,
   "metadata": {},
   "outputs": [],
   "source": [
    "vl = vl_raw.copy()"
   ]
  },
  {
   "cell_type": "code",
   "execution_count": 25,
   "metadata": {},
   "outputs": [],
   "source": [
    "vl['Electrical engineering']        =   vl['Electrical machinery, apparatus, energy'] + \\\n",
    "                                            vl['Audio-visual technology'] + \\\n",
    "                                            vl['Telecommunications'] + \\\n",
    "                                            vl['Digital communication'] + \\\n",
    "                                            vl['Basic communication processes'] + \\\n",
    "                                            vl['Computer technology'] + \\\n",
    "                                            vl['IT methods for management'] + \\\n",
    "                                            vl['Semiconductors']\n",
    "vl['Electrical engineering']        =   np.ceil(vl['Electrical engineering'] / (vl['Electrical engineering'] + 1))\n",
    "\n",
    "\n",
    "vl['Instruments']                   =   vl['Optics'] + \\\n",
    "                                            vl['Measurement'] + \\\n",
    "                                            vl['Analysis of biological materials'] + \\\n",
    "                                            vl['Control'] + \\\n",
    "                                            vl['Medical technology']\n",
    "vl['Instruments']                   =   np.ceil(vl['Instruments'] / (vl['Instruments'] + 1))\n",
    "\n",
    "\n",
    "vl['Chemistry']                     =   vl['Organic fine chemistry'] + \\\n",
    "                                            vl['Biotechnology'] + \\\n",
    "                                            vl['Pharmaceuticals'] + \\\n",
    "                                            vl['Macromolecular chemistry, polymers'] + \\\n",
    "                                            vl['Food chemistry'] + \\\n",
    "                                            vl['Basic materials chemistry'] + \\\n",
    "                                            vl['Materials, metallurgy'] + \\\n",
    "                                            vl['Surface technology, coating'] + \\\n",
    "                                            vl['Micro-structural and nano-technology-2'] + \\\n",
    "                                            vl['Chemical engineering'] + \\\n",
    "                                            vl['Environmental technology']\n",
    "vl['Chemistry']                     =   np.ceil(vl['Chemistry'] / (vl['Chemistry'] + 1))\n",
    "\n",
    "\n",
    "vl['Mechanical engineering']        =   vl['Handling'] + \\\n",
    "                                            vl['Machine Tools'] + \\\n",
    "                                            vl['Engines, pumps, turbines-2'] + \\\n",
    "                                            vl['Textile and paper machines'] + \\\n",
    "                                            vl['Other special machines'] + \\\n",
    "                                            vl['Thermal processes and apparatus'] + \\\n",
    "                                            vl['Mechanical elements'] + \\\n",
    "                                            vl['Transport']\n",
    "vl['Mechanical engineering']        =   np.ceil(vl['Mechanical engineering'] / (vl['Mechanical engineering'] + 1))\n",
    "\n",
    "\n",
    "vl['Other fields']                  =   vl['Furniture, games'] + \\\n",
    "                                            vl['Other consumer goods'] + \\\n",
    "                                            vl['Civil engineering']\n",
    "vl['Other fields']                  =   np.ceil(vl['Other fields'] / (vl['Other fields'] + 1))\n",
    "\n",
    "\n",
    "vl['Deeptech']          =   vl['Electrical engineering'] + \\\n",
    "                                vl['Instruments'] + \\\n",
    "                                vl['Chemistry'] + \\\n",
    "                                vl['Mechanical engineering'] + \\\n",
    "                                vl['Other fields'] \n",
    "vl['Deeptech']          =   np.ceil(vl['Deeptech'] / (vl['Deeptech'] + 1))\n",
    "vl.to_excel('Venturelisten v2.3 c80.xlsx')"
   ]
  }
 ],
 "metadata": {
  "kernelspec": {
   "display_name": "Python 3.9.7 ('base')",
   "language": "python",
   "name": "python3"
  },
  "language_info": {
   "codemirror_mode": {
    "name": "ipython",
    "version": 3
   },
   "file_extension": ".py",
   "mimetype": "text/x-python",
   "name": "python",
   "nbconvert_exporter": "python",
   "pygments_lexer": "ipython3",
   "version": "3.9.7 (default, Sep 16 2021, 16:59:28) [MSC v.1916 64 bit (AMD64)]"
  },
  "orig_nbformat": 4,
  "vscode": {
   "interpreter": {
    "hash": "c79f8f21da264bd1d028db25c6791996e084443b727ae68f20d92653727834ef"
   }
  }
 },
 "nbformat": 4,
 "nbformat_minor": 2
}
